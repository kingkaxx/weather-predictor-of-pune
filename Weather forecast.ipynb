{
 "cells": [
  {
   "cell_type": "code",
   "execution_count": 1,
   "metadata": {},
   "outputs": [
    {
     "name": "stderr",
     "output_type": "stream",
     "text": [
      "Using TensorFlow backend.\n"
     ]
    }
   ],
   "source": [
    "import tensorflow as tf\n",
    "import pandas as pd\n",
    "import numpy as np\n",
    "from tensorflow.keras import layers\n",
    "from tensorflow.keras.layers.experimental import preprocessing\n",
    "from keras.preprocessing import sequence\n",
    "from sklearn.model_selection import train_test_split\n",
    "from sklearn import preprocessing\n",
    "from sklearn.linear_model import LinearRegression\n",
    "from sklearn.tree import DecisionTreeRegressor\n",
    "from sklearn.ensemble import RandomForestRegressor\n",
    "from sklearn.preprocessing import PolynomialFeatures\n",
    "from sklearn.model_selection import GridSearchCV\n",
    "from sklearn.metrics import accuracy_score"
   ]
  },
  {
   "cell_type": "code",
   "execution_count": 2,
   "metadata": {
    "scrolled": true
   },
   "outputs": [],
   "source": [
    "data = pd.read_csv(\"pune.csv\");"
   ]
  },
  {
   "cell_type": "code",
   "execution_count": 3,
   "metadata": {
    "scrolled": true
   },
   "outputs": [
    {
     "data": {
      "text/plain": [
       "Index(['date_time', 'maxtempC', 'mintempC', 'totalSnow_cm', 'sunHour',\n",
       "       'uvIndex', 'uvIndex.1', 'moon_illumination', 'moonrise', 'moonset',\n",
       "       'sunrise', 'sunset', 'DewPointC', 'FeelsLikeC', 'HeatIndexC',\n",
       "       'WindChillC', 'WindGustKmph', 'cloudcover', 'humidity', 'precipMM',\n",
       "       'pressure', 'tempC', 'visibility', 'winddirDegree', 'windspeedKmph'],\n",
       "      dtype='object')"
      ]
     },
     "execution_count": 3,
     "metadata": {},
     "output_type": "execute_result"
    }
   ],
   "source": [
    "data.columns"
   ]
  },
  {
   "cell_type": "code",
   "execution_count": 4,
   "metadata": {},
   "outputs": [],
   "source": [
    "data.drop(\"date_time\",axis=1)\n",
    "#store the temp in new var\n",
    "weather_y = data.pop('tempC')\n",
    "weather_x = data.drop(\"date_time\",axis=1)"
   ]
  },
  {
   "cell_type": "code",
   "execution_count": 5,
   "metadata": {
    "scrolled": true
   },
   "outputs": [
    {
     "data": {
      "text/html": [
       "<div>\n",
       "<style scoped>\n",
       "    .dataframe tbody tr th:only-of-type {\n",
       "        vertical-align: middle;\n",
       "    }\n",
       "\n",
       "    .dataframe tbody tr th {\n",
       "        vertical-align: top;\n",
       "    }\n",
       "\n",
       "    .dataframe thead th {\n",
       "        text-align: right;\n",
       "    }\n",
       "</style>\n",
       "<table border=\"1\" class=\"dataframe\">\n",
       "  <thead>\n",
       "    <tr style=\"text-align: right;\">\n",
       "      <th></th>\n",
       "      <th>maxtempC</th>\n",
       "      <th>mintempC</th>\n",
       "      <th>totalSnow_cm</th>\n",
       "      <th>sunHour</th>\n",
       "      <th>uvIndex</th>\n",
       "      <th>uvIndex.1</th>\n",
       "      <th>moon_illumination</th>\n",
       "      <th>moonrise</th>\n",
       "      <th>moonset</th>\n",
       "      <th>sunrise</th>\n",
       "      <th>...</th>\n",
       "      <th>HeatIndexC</th>\n",
       "      <th>WindChillC</th>\n",
       "      <th>WindGustKmph</th>\n",
       "      <th>cloudcover</th>\n",
       "      <th>humidity</th>\n",
       "      <th>precipMM</th>\n",
       "      <th>pressure</th>\n",
       "      <th>visibility</th>\n",
       "      <th>winddirDegree</th>\n",
       "      <th>windspeedKmph</th>\n",
       "    </tr>\n",
       "  </thead>\n",
       "  <tbody>\n",
       "    <tr>\n",
       "      <th>0</th>\n",
       "      <td>31</td>\n",
       "      <td>13</td>\n",
       "      <td>0.0</td>\n",
       "      <td>11.0</td>\n",
       "      <td>6</td>\n",
       "      <td>1</td>\n",
       "      <td>31</td>\n",
       "      <td>10:17 AM</td>\n",
       "      <td>10:16 PM</td>\n",
       "      <td>07:07 AM</td>\n",
       "      <td>...</td>\n",
       "      <td>18</td>\n",
       "      <td>18</td>\n",
       "      <td>7</td>\n",
       "      <td>0</td>\n",
       "      <td>50</td>\n",
       "      <td>0.0</td>\n",
       "      <td>1013</td>\n",
       "      <td>10</td>\n",
       "      <td>59</td>\n",
       "      <td>3</td>\n",
       "    </tr>\n",
       "    <tr>\n",
       "      <th>1</th>\n",
       "      <td>31</td>\n",
       "      <td>13</td>\n",
       "      <td>0.0</td>\n",
       "      <td>11.0</td>\n",
       "      <td>6</td>\n",
       "      <td>1</td>\n",
       "      <td>31</td>\n",
       "      <td>10:17 AM</td>\n",
       "      <td>10:16 PM</td>\n",
       "      <td>07:07 AM</td>\n",
       "      <td>...</td>\n",
       "      <td>18</td>\n",
       "      <td>18</td>\n",
       "      <td>9</td>\n",
       "      <td>0</td>\n",
       "      <td>47</td>\n",
       "      <td>0.0</td>\n",
       "      <td>1013</td>\n",
       "      <td>10</td>\n",
       "      <td>57</td>\n",
       "      <td>4</td>\n",
       "    </tr>\n",
       "    <tr>\n",
       "      <th>2</th>\n",
       "      <td>31</td>\n",
       "      <td>13</td>\n",
       "      <td>0.0</td>\n",
       "      <td>11.0</td>\n",
       "      <td>6</td>\n",
       "      <td>1</td>\n",
       "      <td>31</td>\n",
       "      <td>10:17 AM</td>\n",
       "      <td>10:16 PM</td>\n",
       "      <td>07:07 AM</td>\n",
       "      <td>...</td>\n",
       "      <td>18</td>\n",
       "      <td>18</td>\n",
       "      <td>10</td>\n",
       "      <td>0</td>\n",
       "      <td>44</td>\n",
       "      <td>0.0</td>\n",
       "      <td>1013</td>\n",
       "      <td>10</td>\n",
       "      <td>55</td>\n",
       "      <td>5</td>\n",
       "    </tr>\n",
       "    <tr>\n",
       "      <th>3</th>\n",
       "      <td>31</td>\n",
       "      <td>13</td>\n",
       "      <td>0.0</td>\n",
       "      <td>11.0</td>\n",
       "      <td>6</td>\n",
       "      <td>1</td>\n",
       "      <td>31</td>\n",
       "      <td>10:17 AM</td>\n",
       "      <td>10:16 PM</td>\n",
       "      <td>07:07 AM</td>\n",
       "      <td>...</td>\n",
       "      <td>18</td>\n",
       "      <td>18</td>\n",
       "      <td>12</td>\n",
       "      <td>0</td>\n",
       "      <td>41</td>\n",
       "      <td>0.0</td>\n",
       "      <td>1013</td>\n",
       "      <td>10</td>\n",
       "      <td>54</td>\n",
       "      <td>6</td>\n",
       "    </tr>\n",
       "    <tr>\n",
       "      <th>4</th>\n",
       "      <td>31</td>\n",
       "      <td>13</td>\n",
       "      <td>0.0</td>\n",
       "      <td>11.0</td>\n",
       "      <td>6</td>\n",
       "      <td>1</td>\n",
       "      <td>31</td>\n",
       "      <td>10:17 AM</td>\n",
       "      <td>10:16 PM</td>\n",
       "      <td>07:07 AM</td>\n",
       "      <td>...</td>\n",
       "      <td>20</td>\n",
       "      <td>20</td>\n",
       "      <td>11</td>\n",
       "      <td>1</td>\n",
       "      <td>38</td>\n",
       "      <td>0.0</td>\n",
       "      <td>1014</td>\n",
       "      <td>10</td>\n",
       "      <td>68</td>\n",
       "      <td>6</td>\n",
       "    </tr>\n",
       "  </tbody>\n",
       "</table>\n",
       "<p>5 rows × 23 columns</p>\n",
       "</div>"
      ],
      "text/plain": [
       "   maxtempC  mintempC  totalSnow_cm  sunHour  uvIndex  uvIndex.1  \\\n",
       "0        31        13           0.0     11.0        6          1   \n",
       "1        31        13           0.0     11.0        6          1   \n",
       "2        31        13           0.0     11.0        6          1   \n",
       "3        31        13           0.0     11.0        6          1   \n",
       "4        31        13           0.0     11.0        6          1   \n",
       "\n",
       "   moon_illumination  moonrise   moonset   sunrise  ... HeatIndexC  \\\n",
       "0                 31  10:17 AM  10:16 PM  07:07 AM  ...         18   \n",
       "1                 31  10:17 AM  10:16 PM  07:07 AM  ...         18   \n",
       "2                 31  10:17 AM  10:16 PM  07:07 AM  ...         18   \n",
       "3                 31  10:17 AM  10:16 PM  07:07 AM  ...         18   \n",
       "4                 31  10:17 AM  10:16 PM  07:07 AM  ...         20   \n",
       "\n",
       "   WindChillC  WindGustKmph  cloudcover  humidity  precipMM  pressure  \\\n",
       "0          18             7           0        50       0.0      1013   \n",
       "1          18             9           0        47       0.0      1013   \n",
       "2          18            10           0        44       0.0      1013   \n",
       "3          18            12           0        41       0.0      1013   \n",
       "4          20            11           1        38       0.0      1014   \n",
       "\n",
       "   visibility  winddirDegree  windspeedKmph  \n",
       "0          10             59              3  \n",
       "1          10             57              4  \n",
       "2          10             55              5  \n",
       "3          10             54              6  \n",
       "4          10             68              6  \n",
       "\n",
       "[5 rows x 23 columns]"
      ]
     },
     "execution_count": 5,
     "metadata": {},
     "output_type": "execute_result"
    }
   ],
   "source": [
    "weather_x.head()"
   ]
  },
  {
   "cell_type": "code",
   "execution_count": 6,
   "metadata": {},
   "outputs": [],
   "source": [
    "moonrise_time = weather_x.pop('moonrise')\n",
    "moonset_time = weather_x.pop('moonset')\n",
    "sunrise_time = weather_x.pop('sunrise')\n",
    "sunset_time = weather_x.pop('sunset')\n",
    "new_moonrise_format = []\n",
    "new_sunrise_format = []\n",
    "new_moonset_format = []\n",
    "new_sunset_format = []"
   ]
  },
  {
   "cell_type": "code",
   "execution_count": 7,
   "metadata": {},
   "outputs": [],
   "source": [
    "for i in range(96432):\n",
    "    if moonrise_time[i] == 'No moonrise' or moonset_time[i]== 'No moonset':\n",
    "        moonrise_time[i] = moonrise_time[i-1]\n",
    "        moonset_time[i] = moonset_time[i-1]\n",
    "        "
   ]
  },
  {
   "cell_type": "code",
   "execution_count": 8,
   "metadata": {},
   "outputs": [],
   "source": [
    "for i in range (96432):\n",
    "    new_moonrise_time = moonrise_time[i]\n",
    "    new_sunrise_time = sunrise_time[i]\n",
    "    new_moonset_time = moonset_time[i]\n",
    "    new_sunset_time = sunset_time[i]\n",
    "   \n",
    "    (mrt,mrdt) = new_moonrise_time.split(' ')\n",
    "    (srt,srdt) = new_sunrise_time.split(' ')\n",
    "    (mst,msdt) = new_moonset_time.split(' ')\n",
    "    (sst,ssdt) = new_sunset_time.split(' ')\n",
    "\n",
    "    (mrh,mrm) = mrt.split(':')\n",
    "    (srh,srm) = srt.split(':')\n",
    "    (msh,msm) = mst.split(':')\n",
    "    (ssh,ssm) = sst.split(':')\n",
    "    \n",
    "    modified_moonrise_time = float(mrh) + (float(mrm)/60)\n",
    "    modified_sunrise_time = float(srh) + (float(srm)/60)\n",
    "    modified_moonset_time = float(msh) + (float(msm)/60) + 12\n",
    "    modified_sunset_time = float(ssh) + (float(ssm)/60) + 12\n",
    "    \n",
    "    new_moonrise_format.append(modified_moonrise_time)\n",
    "    new_sunrise_format.append(modified_sunrise_time)\n",
    "    new_moonset_format.append(modified_moonset_time)\n",
    "    new_sunset_format.append(modified_sunset_time)\n",
    "  "
   ]
  },
  {
   "cell_type": "code",
   "execution_count": 9,
   "metadata": {},
   "outputs": [],
   "source": [
    "mr_dataframe=pd.DataFrame(new_moonrise_format, columns=['moonrise'])\n",
    "sr_dataframe=pd.DataFrame(new_sunrise_format, columns=['sunrise'])\n",
    "ms_dataframe=pd.DataFrame(new_moonset_format, columns=['moonset'])\n",
    "ss_dataframe=pd.DataFrame(new_sunset_format, columns=['sunset'])"
   ]
  },
  {
   "cell_type": "code",
   "execution_count": 10,
   "metadata": {},
   "outputs": [
    {
     "data": {
      "text/plain": [
       "(96432, 1)"
      ]
     },
     "execution_count": 10,
     "metadata": {},
     "output_type": "execute_result"
    }
   ],
   "source": [
    "ms_dataframe.shape"
   ]
  },
  {
   "cell_type": "code",
   "execution_count": 11,
   "metadata": {},
   "outputs": [
    {
     "data": {
      "text/plain": [
       "(96432, 1)"
      ]
     },
     "execution_count": 11,
     "metadata": {},
     "output_type": "execute_result"
    }
   ],
   "source": [
    "ss_dataframe.shape"
   ]
  },
  {
   "cell_type": "code",
   "execution_count": 12,
   "metadata": {},
   "outputs": [
    {
     "data": {
      "text/html": [
       "<div>\n",
       "<style scoped>\n",
       "    .dataframe tbody tr th:only-of-type {\n",
       "        vertical-align: middle;\n",
       "    }\n",
       "\n",
       "    .dataframe tbody tr th {\n",
       "        vertical-align: top;\n",
       "    }\n",
       "\n",
       "    .dataframe thead th {\n",
       "        text-align: right;\n",
       "    }\n",
       "</style>\n",
       "<table border=\"1\" class=\"dataframe\">\n",
       "  <thead>\n",
       "    <tr style=\"text-align: right;\">\n",
       "      <th></th>\n",
       "      <th>maxtempC</th>\n",
       "      <th>mintempC</th>\n",
       "      <th>totalSnow_cm</th>\n",
       "      <th>sunHour</th>\n",
       "      <th>uvIndex</th>\n",
       "      <th>uvIndex.1</th>\n",
       "      <th>moon_illumination</th>\n",
       "      <th>DewPointC</th>\n",
       "      <th>FeelsLikeC</th>\n",
       "      <th>HeatIndexC</th>\n",
       "      <th>...</th>\n",
       "      <th>humidity</th>\n",
       "      <th>precipMM</th>\n",
       "      <th>pressure</th>\n",
       "      <th>visibility</th>\n",
       "      <th>winddirDegree</th>\n",
       "      <th>windspeedKmph</th>\n",
       "      <th>moonrise</th>\n",
       "      <th>sunrise</th>\n",
       "      <th>moonset</th>\n",
       "      <th>sunset</th>\n",
       "    </tr>\n",
       "  </thead>\n",
       "  <tbody>\n",
       "    <tr>\n",
       "      <th>0</th>\n",
       "      <td>31</td>\n",
       "      <td>13</td>\n",
       "      <td>0.0</td>\n",
       "      <td>11.0</td>\n",
       "      <td>6</td>\n",
       "      <td>1</td>\n",
       "      <td>31</td>\n",
       "      <td>7</td>\n",
       "      <td>18</td>\n",
       "      <td>18</td>\n",
       "      <td>...</td>\n",
       "      <td>50</td>\n",
       "      <td>0.0</td>\n",
       "      <td>1013</td>\n",
       "      <td>10</td>\n",
       "      <td>59</td>\n",
       "      <td>3</td>\n",
       "      <td>10.283333</td>\n",
       "      <td>7.116667</td>\n",
       "      <td>22.266667</td>\n",
       "      <td>18.15</td>\n",
       "    </tr>\n",
       "    <tr>\n",
       "      <th>1</th>\n",
       "      <td>31</td>\n",
       "      <td>13</td>\n",
       "      <td>0.0</td>\n",
       "      <td>11.0</td>\n",
       "      <td>6</td>\n",
       "      <td>1</td>\n",
       "      <td>31</td>\n",
       "      <td>6</td>\n",
       "      <td>18</td>\n",
       "      <td>18</td>\n",
       "      <td>...</td>\n",
       "      <td>47</td>\n",
       "      <td>0.0</td>\n",
       "      <td>1013</td>\n",
       "      <td>10</td>\n",
       "      <td>57</td>\n",
       "      <td>4</td>\n",
       "      <td>10.283333</td>\n",
       "      <td>7.116667</td>\n",
       "      <td>22.266667</td>\n",
       "      <td>18.15</td>\n",
       "    </tr>\n",
       "    <tr>\n",
       "      <th>2</th>\n",
       "      <td>31</td>\n",
       "      <td>13</td>\n",
       "      <td>0.0</td>\n",
       "      <td>11.0</td>\n",
       "      <td>6</td>\n",
       "      <td>1</td>\n",
       "      <td>31</td>\n",
       "      <td>6</td>\n",
       "      <td>18</td>\n",
       "      <td>18</td>\n",
       "      <td>...</td>\n",
       "      <td>44</td>\n",
       "      <td>0.0</td>\n",
       "      <td>1013</td>\n",
       "      <td>10</td>\n",
       "      <td>55</td>\n",
       "      <td>5</td>\n",
       "      <td>10.283333</td>\n",
       "      <td>7.116667</td>\n",
       "      <td>22.266667</td>\n",
       "      <td>18.15</td>\n",
       "    </tr>\n",
       "    <tr>\n",
       "      <th>3</th>\n",
       "      <td>31</td>\n",
       "      <td>13</td>\n",
       "      <td>0.0</td>\n",
       "      <td>11.0</td>\n",
       "      <td>6</td>\n",
       "      <td>1</td>\n",
       "      <td>31</td>\n",
       "      <td>5</td>\n",
       "      <td>18</td>\n",
       "      <td>18</td>\n",
       "      <td>...</td>\n",
       "      <td>41</td>\n",
       "      <td>0.0</td>\n",
       "      <td>1013</td>\n",
       "      <td>10</td>\n",
       "      <td>54</td>\n",
       "      <td>6</td>\n",
       "      <td>10.283333</td>\n",
       "      <td>7.116667</td>\n",
       "      <td>22.266667</td>\n",
       "      <td>18.15</td>\n",
       "    </tr>\n",
       "    <tr>\n",
       "      <th>4</th>\n",
       "      <td>31</td>\n",
       "      <td>13</td>\n",
       "      <td>0.0</td>\n",
       "      <td>11.0</td>\n",
       "      <td>6</td>\n",
       "      <td>1</td>\n",
       "      <td>31</td>\n",
       "      <td>5</td>\n",
       "      <td>20</td>\n",
       "      <td>20</td>\n",
       "      <td>...</td>\n",
       "      <td>38</td>\n",
       "      <td>0.0</td>\n",
       "      <td>1014</td>\n",
       "      <td>10</td>\n",
       "      <td>68</td>\n",
       "      <td>6</td>\n",
       "      <td>10.283333</td>\n",
       "      <td>7.116667</td>\n",
       "      <td>22.266667</td>\n",
       "      <td>18.15</td>\n",
       "    </tr>\n",
       "  </tbody>\n",
       "</table>\n",
       "<p>5 rows × 23 columns</p>\n",
       "</div>"
      ],
      "text/plain": [
       "   maxtempC  mintempC  totalSnow_cm  sunHour  uvIndex  uvIndex.1  \\\n",
       "0        31        13           0.0     11.0        6          1   \n",
       "1        31        13           0.0     11.0        6          1   \n",
       "2        31        13           0.0     11.0        6          1   \n",
       "3        31        13           0.0     11.0        6          1   \n",
       "4        31        13           0.0     11.0        6          1   \n",
       "\n",
       "   moon_illumination  DewPointC  FeelsLikeC  HeatIndexC  ...  humidity  \\\n",
       "0                 31          7          18          18  ...        50   \n",
       "1                 31          6          18          18  ...        47   \n",
       "2                 31          6          18          18  ...        44   \n",
       "3                 31          5          18          18  ...        41   \n",
       "4                 31          5          20          20  ...        38   \n",
       "\n",
       "   precipMM  pressure  visibility  winddirDegree  windspeedKmph   moonrise  \\\n",
       "0       0.0      1013          10             59              3  10.283333   \n",
       "1       0.0      1013          10             57              4  10.283333   \n",
       "2       0.0      1013          10             55              5  10.283333   \n",
       "3       0.0      1013          10             54              6  10.283333   \n",
       "4       0.0      1014          10             68              6  10.283333   \n",
       "\n",
       "    sunrise    moonset  sunset  \n",
       "0  7.116667  22.266667   18.15  \n",
       "1  7.116667  22.266667   18.15  \n",
       "2  7.116667  22.266667   18.15  \n",
       "3  7.116667  22.266667   18.15  \n",
       "4  7.116667  22.266667   18.15  \n",
       "\n",
       "[5 rows x 23 columns]"
      ]
     },
     "execution_count": 12,
     "metadata": {},
     "output_type": "execute_result"
    }
   ],
   "source": [
    "\n",
    "weather_x = pd.concat((weather_x,mr_dataframe,sr_dataframe,ms_dataframe,ss_dataframe),axis=1)\n",
    "weather_x.head()"
   ]
  },
  {
   "cell_type": "code",
   "execution_count": 13,
   "metadata": {},
   "outputs": [
    {
     "data": {
      "text/plain": [
       "0    13\n",
       "1    14\n",
       "2    14\n",
       "3    15\n",
       "4    16\n",
       "Name: tempC, dtype: int64"
      ]
     },
     "execution_count": 13,
     "metadata": {},
     "output_type": "execute_result"
    }
   ],
   "source": [
    "weather_y.head()"
   ]
  },
  {
   "cell_type": "code",
   "execution_count": 14,
   "metadata": {
    "scrolled": true
   },
   "outputs": [],
   "source": [
    "## x is ref to input ans y as output \n",
    "x_train,x_test,y_train,y_test = train_test_split(weather_x,weather_y,test_size = 0.2,random_state = 123) "
   ]
  },
  {
   "cell_type": "code",
   "execution_count": 15,
   "metadata": {},
   "outputs": [
    {
     "data": {
      "text/html": [
       "<div>\n",
       "<style scoped>\n",
       "    .dataframe tbody tr th:only-of-type {\n",
       "        vertical-align: middle;\n",
       "    }\n",
       "\n",
       "    .dataframe tbody tr th {\n",
       "        vertical-align: top;\n",
       "    }\n",
       "\n",
       "    .dataframe thead th {\n",
       "        text-align: right;\n",
       "    }\n",
       "</style>\n",
       "<table border=\"1\" class=\"dataframe\">\n",
       "  <thead>\n",
       "    <tr style=\"text-align: right;\">\n",
       "      <th></th>\n",
       "      <th>maxtempC</th>\n",
       "      <th>mintempC</th>\n",
       "      <th>totalSnow_cm</th>\n",
       "      <th>sunHour</th>\n",
       "      <th>uvIndex</th>\n",
       "      <th>uvIndex.1</th>\n",
       "      <th>moon_illumination</th>\n",
       "      <th>DewPointC</th>\n",
       "      <th>FeelsLikeC</th>\n",
       "      <th>HeatIndexC</th>\n",
       "      <th>...</th>\n",
       "      <th>humidity</th>\n",
       "      <th>precipMM</th>\n",
       "      <th>pressure</th>\n",
       "      <th>visibility</th>\n",
       "      <th>winddirDegree</th>\n",
       "      <th>windspeedKmph</th>\n",
       "      <th>moonrise</th>\n",
       "      <th>sunrise</th>\n",
       "      <th>moonset</th>\n",
       "      <th>sunset</th>\n",
       "    </tr>\n",
       "  </thead>\n",
       "  <tbody>\n",
       "    <tr>\n",
       "      <th>42545</th>\n",
       "      <td>29</td>\n",
       "      <td>19</td>\n",
       "      <td>0.0</td>\n",
       "      <td>8.7</td>\n",
       "      <td>6</td>\n",
       "      <td>6</td>\n",
       "      <td>33</td>\n",
       "      <td>17</td>\n",
       "      <td>26</td>\n",
       "      <td>26</td>\n",
       "      <td>...</td>\n",
       "      <td>65</td>\n",
       "      <td>0.0</td>\n",
       "      <td>1011</td>\n",
       "      <td>10</td>\n",
       "      <td>54</td>\n",
       "      <td>1</td>\n",
       "      <td>11.150000</td>\n",
       "      <td>6.616667</td>\n",
       "      <td>22.816667</td>\n",
       "      <td>17.983333</td>\n",
       "    </tr>\n",
       "    <tr>\n",
       "      <th>95978</th>\n",
       "      <td>29</td>\n",
       "      <td>19</td>\n",
       "      <td>0.0</td>\n",
       "      <td>11.4</td>\n",
       "      <td>6</td>\n",
       "      <td>1</td>\n",
       "      <td>79</td>\n",
       "      <td>13</td>\n",
       "      <td>20</td>\n",
       "      <td>21</td>\n",
       "      <td>...</td>\n",
       "      <td>64</td>\n",
       "      <td>0.0</td>\n",
       "      <td>1014</td>\n",
       "      <td>10</td>\n",
       "      <td>257</td>\n",
       "      <td>4</td>\n",
       "      <td>8.133333</td>\n",
       "      <td>6.966667</td>\n",
       "      <td>20.766667</td>\n",
       "      <td>18.000000</td>\n",
       "    </tr>\n",
       "    <tr>\n",
       "      <th>20824</th>\n",
       "      <td>36</td>\n",
       "      <td>24</td>\n",
       "      <td>0.0</td>\n",
       "      <td>13.0</td>\n",
       "      <td>7</td>\n",
       "      <td>8</td>\n",
       "      <td>100</td>\n",
       "      <td>15</td>\n",
       "      <td>34</td>\n",
       "      <td>34</td>\n",
       "      <td>...</td>\n",
       "      <td>35</td>\n",
       "      <td>0.0</td>\n",
       "      <td>1007</td>\n",
       "      <td>10</td>\n",
       "      <td>297</td>\n",
       "      <td>12</td>\n",
       "      <td>8.150000</td>\n",
       "      <td>6.000000</td>\n",
       "      <td>18.483333</td>\n",
       "      <td>19.033333</td>\n",
       "    </tr>\n",
       "    <tr>\n",
       "      <th>64516</th>\n",
       "      <td>36</td>\n",
       "      <td>24</td>\n",
       "      <td>0.0</td>\n",
       "      <td>11.6</td>\n",
       "      <td>8</td>\n",
       "      <td>1</td>\n",
       "      <td>36</td>\n",
       "      <td>18</td>\n",
       "      <td>28</td>\n",
       "      <td>28</td>\n",
       "      <td>...</td>\n",
       "      <td>60</td>\n",
       "      <td>0.0</td>\n",
       "      <td>1009</td>\n",
       "      <td>10</td>\n",
       "      <td>279</td>\n",
       "      <td>7</td>\n",
       "      <td>10.316667</td>\n",
       "      <td>6.033333</td>\n",
       "      <td>23.583333</td>\n",
       "      <td>19.000000</td>\n",
       "    </tr>\n",
       "    <tr>\n",
       "      <th>29492</th>\n",
       "      <td>36</td>\n",
       "      <td>22</td>\n",
       "      <td>0.0</td>\n",
       "      <td>11.6</td>\n",
       "      <td>7</td>\n",
       "      <td>1</td>\n",
       "      <td>44</td>\n",
       "      <td>19</td>\n",
       "      <td>27</td>\n",
       "      <td>27</td>\n",
       "      <td>...</td>\n",
       "      <td>68</td>\n",
       "      <td>0.0</td>\n",
       "      <td>1008</td>\n",
       "      <td>10</td>\n",
       "      <td>295</td>\n",
       "      <td>13</td>\n",
       "      <td>12.866667</td>\n",
       "      <td>6.016667</td>\n",
       "      <td>24.833333</td>\n",
       "      <td>19.016667</td>\n",
       "    </tr>\n",
       "  </tbody>\n",
       "</table>\n",
       "<p>5 rows × 23 columns</p>\n",
       "</div>"
      ],
      "text/plain": [
       "       maxtempC  mintempC  totalSnow_cm  sunHour  uvIndex  uvIndex.1  \\\n",
       "42545        29        19           0.0      8.7        6          6   \n",
       "95978        29        19           0.0     11.4        6          1   \n",
       "20824        36        24           0.0     13.0        7          8   \n",
       "64516        36        24           0.0     11.6        8          1   \n",
       "29492        36        22           0.0     11.6        7          1   \n",
       "\n",
       "       moon_illumination  DewPointC  FeelsLikeC  HeatIndexC  ...  humidity  \\\n",
       "42545                 33         17          26          26  ...        65   \n",
       "95978                 79         13          20          21  ...        64   \n",
       "20824                100         15          34          34  ...        35   \n",
       "64516                 36         18          28          28  ...        60   \n",
       "29492                 44         19          27          27  ...        68   \n",
       "\n",
       "       precipMM  pressure  visibility  winddirDegree  windspeedKmph  \\\n",
       "42545       0.0      1011          10             54              1   \n",
       "95978       0.0      1014          10            257              4   \n",
       "20824       0.0      1007          10            297             12   \n",
       "64516       0.0      1009          10            279              7   \n",
       "29492       0.0      1008          10            295             13   \n",
       "\n",
       "        moonrise   sunrise    moonset     sunset  \n",
       "42545  11.150000  6.616667  22.816667  17.983333  \n",
       "95978   8.133333  6.966667  20.766667  18.000000  \n",
       "20824   8.150000  6.000000  18.483333  19.033333  \n",
       "64516  10.316667  6.033333  23.583333  19.000000  \n",
       "29492  12.866667  6.016667  24.833333  19.016667  \n",
       "\n",
       "[5 rows x 23 columns]"
      ]
     },
     "execution_count": 15,
     "metadata": {},
     "output_type": "execute_result"
    }
   ],
   "source": [
    "x_train.head()"
   ]
  },
  {
   "cell_type": "code",
   "execution_count": 16,
   "metadata": {
    "scrolled": true
   },
   "outputs": [
    {
     "data": {
      "text/plain": [
       "(77145, 23)"
      ]
     },
     "execution_count": 16,
     "metadata": {},
     "output_type": "execute_result"
    }
   ],
   "source": [
    "x_train.shape"
   ]
  },
  {
   "cell_type": "code",
   "execution_count": 17,
   "metadata": {},
   "outputs": [
    {
     "data": {
      "text/plain": [
       "42545    24\n",
       "95978    20\n",
       "20824    33\n",
       "64516    26\n",
       "29492    25\n",
       "Name: tempC, dtype: int64"
      ]
     },
     "execution_count": 17,
     "metadata": {},
     "output_type": "execute_result"
    }
   ],
   "source": [
    "y_train.head()"
   ]
  },
  {
   "cell_type": "code",
   "execution_count": 18,
   "metadata": {},
   "outputs": [
    {
     "data": {
      "text/plain": [
       "(77145,)"
      ]
     },
     "execution_count": 18,
     "metadata": {},
     "output_type": "execute_result"
    }
   ],
   "source": [
    "y_train.shape"
   ]
  },
  {
   "cell_type": "code",
   "execution_count": 19,
   "metadata": {
    "scrolled": false
   },
   "outputs": [
    {
     "data": {
      "text/html": [
       "<div>\n",
       "<style scoped>\n",
       "    .dataframe tbody tr th:only-of-type {\n",
       "        vertical-align: middle;\n",
       "    }\n",
       "\n",
       "    .dataframe tbody tr th {\n",
       "        vertical-align: top;\n",
       "    }\n",
       "\n",
       "    .dataframe thead th {\n",
       "        text-align: right;\n",
       "    }\n",
       "</style>\n",
       "<table border=\"1\" class=\"dataframe\">\n",
       "  <thead>\n",
       "    <tr style=\"text-align: right;\">\n",
       "      <th></th>\n",
       "      <th>maxtempC</th>\n",
       "      <th>mintempC</th>\n",
       "      <th>totalSnow_cm</th>\n",
       "      <th>sunHour</th>\n",
       "      <th>uvIndex</th>\n",
       "      <th>uvIndex.1</th>\n",
       "      <th>moon_illumination</th>\n",
       "      <th>DewPointC</th>\n",
       "      <th>FeelsLikeC</th>\n",
       "      <th>HeatIndexC</th>\n",
       "      <th>...</th>\n",
       "      <th>humidity</th>\n",
       "      <th>precipMM</th>\n",
       "      <th>pressure</th>\n",
       "      <th>visibility</th>\n",
       "      <th>winddirDegree</th>\n",
       "      <th>windspeedKmph</th>\n",
       "      <th>moonrise</th>\n",
       "      <th>sunrise</th>\n",
       "      <th>moonset</th>\n",
       "      <th>sunset</th>\n",
       "    </tr>\n",
       "  </thead>\n",
       "  <tbody>\n",
       "    <tr>\n",
       "      <th>60572</th>\n",
       "      <td>30</td>\n",
       "      <td>20</td>\n",
       "      <td>0.0</td>\n",
       "      <td>8.7</td>\n",
       "      <td>6</td>\n",
       "      <td>1</td>\n",
       "      <td>71</td>\n",
       "      <td>13</td>\n",
       "      <td>22</td>\n",
       "      <td>25</td>\n",
       "      <td>...</td>\n",
       "      <td>56</td>\n",
       "      <td>0.0</td>\n",
       "      <td>1015</td>\n",
       "      <td>10</td>\n",
       "      <td>98</td>\n",
       "      <td>6</td>\n",
       "      <td>9.400000</td>\n",
       "      <td>6.816667</td>\n",
       "      <td>21.766667</td>\n",
       "      <td>17.933333</td>\n",
       "    </tr>\n",
       "    <tr>\n",
       "      <th>62416</th>\n",
       "      <td>31</td>\n",
       "      <td>15</td>\n",
       "      <td>0.0</td>\n",
       "      <td>11.3</td>\n",
       "      <td>6</td>\n",
       "      <td>7</td>\n",
       "      <td>42</td>\n",
       "      <td>8</td>\n",
       "      <td>27</td>\n",
       "      <td>27</td>\n",
       "      <td>...</td>\n",
       "      <td>31</td>\n",
       "      <td>0.0</td>\n",
       "      <td>1011</td>\n",
       "      <td>10</td>\n",
       "      <td>120</td>\n",
       "      <td>5</td>\n",
       "      <td>10.600000</td>\n",
       "      <td>7.050000</td>\n",
       "      <td>23.416667</td>\n",
       "      <td>18.566667</td>\n",
       "    </tr>\n",
       "    <tr>\n",
       "      <th>90411</th>\n",
       "      <td>41</td>\n",
       "      <td>29</td>\n",
       "      <td>0.0</td>\n",
       "      <td>11.6</td>\n",
       "      <td>9</td>\n",
       "      <td>1</td>\n",
       "      <td>43</td>\n",
       "      <td>12</td>\n",
       "      <td>29</td>\n",
       "      <td>29</td>\n",
       "      <td>...</td>\n",
       "      <td>34</td>\n",
       "      <td>0.0</td>\n",
       "      <td>1007</td>\n",
       "      <td>10</td>\n",
       "      <td>316</td>\n",
       "      <td>11</td>\n",
       "      <td>12.500000</td>\n",
       "      <td>6.166667</td>\n",
       "      <td>23.850000</td>\n",
       "      <td>18.900000</td>\n",
       "    </tr>\n",
       "    <tr>\n",
       "      <th>253</th>\n",
       "      <td>31</td>\n",
       "      <td>20</td>\n",
       "      <td>0.0</td>\n",
       "      <td>11.1</td>\n",
       "      <td>6</td>\n",
       "      <td>7</td>\n",
       "      <td>100</td>\n",
       "      <td>10</td>\n",
       "      <td>29</td>\n",
       "      <td>29</td>\n",
       "      <td>...</td>\n",
       "      <td>31</td>\n",
       "      <td>0.0</td>\n",
       "      <td>1013</td>\n",
       "      <td>10</td>\n",
       "      <td>167</td>\n",
       "      <td>4</td>\n",
       "      <td>6.616667</td>\n",
       "      <td>7.166667</td>\n",
       "      <td>19.200000</td>\n",
       "      <td>18.250000</td>\n",
       "    </tr>\n",
       "    <tr>\n",
       "      <th>19354</th>\n",
       "      <td>38</td>\n",
       "      <td>16</td>\n",
       "      <td>0.0</td>\n",
       "      <td>11.6</td>\n",
       "      <td>7</td>\n",
       "      <td>9</td>\n",
       "      <td>94</td>\n",
       "      <td>0</td>\n",
       "      <td>41</td>\n",
       "      <td>41</td>\n",
       "      <td>...</td>\n",
       "      <td>8</td>\n",
       "      <td>0.0</td>\n",
       "      <td>1009</td>\n",
       "      <td>10</td>\n",
       "      <td>90</td>\n",
       "      <td>5</td>\n",
       "      <td>5.416667</td>\n",
       "      <td>6.683333</td>\n",
       "      <td>17.183333</td>\n",
       "      <td>18.750000</td>\n",
       "    </tr>\n",
       "  </tbody>\n",
       "</table>\n",
       "<p>5 rows × 23 columns</p>\n",
       "</div>"
      ],
      "text/plain": [
       "       maxtempC  mintempC  totalSnow_cm  sunHour  uvIndex  uvIndex.1  \\\n",
       "60572        30        20           0.0      8.7        6          1   \n",
       "62416        31        15           0.0     11.3        6          7   \n",
       "90411        41        29           0.0     11.6        9          1   \n",
       "253          31        20           0.0     11.1        6          7   \n",
       "19354        38        16           0.0     11.6        7          9   \n",
       "\n",
       "       moon_illumination  DewPointC  FeelsLikeC  HeatIndexC  ...  humidity  \\\n",
       "60572                 71         13          22          25  ...        56   \n",
       "62416                 42          8          27          27  ...        31   \n",
       "90411                 43         12          29          29  ...        34   \n",
       "253                  100         10          29          29  ...        31   \n",
       "19354                 94          0          41          41  ...         8   \n",
       "\n",
       "       precipMM  pressure  visibility  winddirDegree  windspeedKmph  \\\n",
       "60572       0.0      1015          10             98              6   \n",
       "62416       0.0      1011          10            120              5   \n",
       "90411       0.0      1007          10            316             11   \n",
       "253         0.0      1013          10            167              4   \n",
       "19354       0.0      1009          10             90              5   \n",
       "\n",
       "        moonrise   sunrise    moonset     sunset  \n",
       "60572   9.400000  6.816667  21.766667  17.933333  \n",
       "62416  10.600000  7.050000  23.416667  18.566667  \n",
       "90411  12.500000  6.166667  23.850000  18.900000  \n",
       "253     6.616667  7.166667  19.200000  18.250000  \n",
       "19354   5.416667  6.683333  17.183333  18.750000  \n",
       "\n",
       "[5 rows x 23 columns]"
      ]
     },
     "execution_count": 19,
     "metadata": {},
     "output_type": "execute_result"
    }
   ],
   "source": [
    "#x_test.head()\n",
    "x_test.head()"
   ]
  },
  {
   "cell_type": "code",
   "execution_count": 20,
   "metadata": {},
   "outputs": [
    {
     "data": {
      "text/plain": [
       "(19287, 23)"
      ]
     },
     "execution_count": 20,
     "metadata": {},
     "output_type": "execute_result"
    }
   ],
   "source": [
    "x_test.shape"
   ]
  },
  {
   "cell_type": "code",
   "execution_count": 21,
   "metadata": {
    "scrolled": true
   },
   "outputs": [
    {
     "data": {
      "text/plain": [
       "Index(['maxtempC', 'mintempC', 'totalSnow_cm', 'sunHour', 'uvIndex',\n",
       "       'uvIndex.1', 'moon_illumination', 'DewPointC', 'FeelsLikeC',\n",
       "       'HeatIndexC', 'WindChillC', 'WindGustKmph', 'cloudcover', 'humidity',\n",
       "       'precipMM', 'pressure', 'visibility', 'winddirDegree', 'windspeedKmph',\n",
       "       'moonrise', 'sunrise', 'moonset', 'sunset'],\n",
       "      dtype='object')"
      ]
     },
     "execution_count": 21,
     "metadata": {},
     "output_type": "execute_result"
    }
   ],
   "source": [
    "x_train.columns"
   ]
  },
  {
   "cell_type": "code",
   "execution_count": null,
   "metadata": {},
   "outputs": [],
   "source": [
    "model_param = {\n",
    "    'LinearRegression':{\n",
    "        'model':LinearRegression(),\n",
    "         'param':{\n",
    "           \n",
    "        }\n",
    "    },\n",
    "        'DecisionTreeRegressor':{\n",
    "        'model':DecisionTreeRegressor(),\n",
    "        'param':{\n",
    "           \n",
    "        }\n",
    "    },\n",
    "        'RandomForestRegressor':{\n",
    "        'model':RandomForestRegressor(),\n",
    "        'param':{\n",
    "            'max_depth':[10,25,50,75],\n",
    "        }\n",
    "    }\n",
    "}"
   ]
  },
  {
   "cell_type": "code",
   "execution_count": null,
   "metadata": {},
   "outputs": [],
   "source": [
    "scores =[]\n",
    "for model_name, mp in model_param.items():\n",
    "    model_selection = GridSearchCV(estimator = mp['model'],param_grid = mp['param'], cv = 5, return_train_score = False)\n",
    "    model_selection.fit(x_train,y_train)\n",
    "    scores.append({\n",
    "        'model': model_name,\n",
    "        'best_score': model_selection.best_score_,\n",
    "        'best_params': model_selection.best_params_\n",
    "    })"
   ]
  },
  {
   "cell_type": "code",
   "execution_count": null,
   "metadata": {},
   "outputs": [],
   "source": [
    "model_score = pd.DataFrame(scores,columns=['model','best_score','best_params'])\n",
    "model_score"
   ]
  },
  {
   "cell_type": "code",
   "execution_count": 22,
   "metadata": {},
   "outputs": [],
   "source": [
    "model =LinearRegression()"
   ]
  },
  {
   "cell_type": "code",
   "execution_count": 23,
   "metadata": {},
   "outputs": [
    {
     "data": {
      "text/plain": [
       "LinearRegression()"
      ]
     },
     "execution_count": 23,
     "metadata": {},
     "output_type": "execute_result"
    }
   ],
   "source": [
    "model.fit(x_train,y_train)\n"
   ]
  },
  {
   "cell_type": "code",
   "execution_count": 24,
   "metadata": {
    "scrolled": true
   },
   "outputs": [],
   "source": [
    "pred = model.predict(x_test)"
   ]
  },
  {
   "cell_type": "code",
   "execution_count": 25,
   "metadata": {},
   "outputs": [
    {
     "data": {
      "text/plain": [
       "(19287,)"
      ]
     },
     "execution_count": 25,
     "metadata": {},
     "output_type": "execute_result"
    }
   ],
   "source": [
    "pred.shape"
   ]
  },
  {
   "cell_type": "code",
   "execution_count": 26,
   "metadata": {},
   "outputs": [
    {
     "data": {
      "text/plain": [
       "(19287,)"
      ]
     },
     "execution_count": 26,
     "metadata": {},
     "output_type": "execute_result"
    }
   ],
   "source": [
    "y_test.shape"
   ]
  },
  {
   "cell_type": "code",
   "execution_count": 27,
   "metadata": {},
   "outputs": [
    {
     "data": {
      "text/plain": [
       "0.7997731534908586"
      ]
     },
     "execution_count": 27,
     "metadata": {},
     "output_type": "execute_result"
    }
   ],
   "source": [
    "#calculating RMSE\n",
    "np.sqrt(np.mean((pred - y_test)**2))"
   ]
  },
  {
   "cell_type": "code",
   "execution_count": 28,
   "metadata": {
    "scrolled": true
   },
   "outputs": [
    {
     "data": {
      "text/plain": [
       "LinearRegression()"
      ]
     },
     "execution_count": 28,
     "metadata": {},
     "output_type": "execute_result"
    }
   ],
   "source": [
    "#polynomial regression\n",
    "poly = PolynomialFeatures(degree = 3)\n",
    "x_poly = poly.fit_transform(x_train)\n",
    "lin = LinearRegression()\n",
    "lin.fit(x_poly,y_train)"
   ]
  },
  {
   "cell_type": "code",
   "execution_count": 29,
   "metadata": {},
   "outputs": [],
   "source": [
    "pred2 = lin.predict(poly.fit_transform(x_test))"
   ]
  },
  {
   "cell_type": "code",
   "execution_count": 30,
   "metadata": {},
   "outputs": [
    {
     "data": {
      "text/plain": [
       "0.5026990466979245"
      ]
     },
     "execution_count": 30,
     "metadata": {},
     "output_type": "execute_result"
    }
   ],
   "source": [
    "np.sqrt(np.mean((pred2 - y_test)**2))"
   ]
  },
  {
   "cell_type": "code",
   "execution_count": 31,
   "metadata": {},
   "outputs": [
    {
     "data": {
      "text/plain": [
       "DecisionTreeRegressor(random_state=0)"
      ]
     },
     "execution_count": 31,
     "metadata": {},
     "output_type": "execute_result"
    }
   ],
   "source": [
    "#decision tree regression\n",
    "deceReg = DecisionTreeRegressor(random_state = 0)\n",
    "deceReg.fit(x_train,y_train)"
   ]
  },
  {
   "cell_type": "code",
   "execution_count": 32,
   "metadata": {},
   "outputs": [],
   "source": [
    "pred3 = deceReg.predict(x_test)"
   ]
  },
  {
   "cell_type": "code",
   "execution_count": 33,
   "metadata": {},
   "outputs": [
    {
     "data": {
      "text/plain": [
       "0.6166596250538593"
      ]
     },
     "execution_count": 33,
     "metadata": {},
     "output_type": "execute_result"
    }
   ],
   "source": [
    "np.sqrt(np.mean((pred3 - y_test)**2))"
   ]
  },
  {
   "cell_type": "code",
   "execution_count": 34,
   "metadata": {},
   "outputs": [
    {
     "data": {
      "text/plain": [
       "RandomForestRegressor(max_depth=50, random_state=0)"
      ]
     },
     "execution_count": 34,
     "metadata": {},
     "output_type": "execute_result"
    }
   ],
   "source": [
    "regr = RandomForestRegressor(max_depth=50, random_state=0,n_estimators=100)\n",
    "regr.fit(x_train,y_train)"
   ]
  },
  {
   "cell_type": "code",
   "execution_count": 35,
   "metadata": {},
   "outputs": [
    {
     "name": "stdout",
     "output_type": "stream",
     "text": [
      "[21.6  27.02 28.61 ... 17.21 22.97 25.04]\n"
     ]
    },
    {
     "data": {
      "text/plain": [
       "0.4497437150441888"
      ]
     },
     "execution_count": 35,
     "metadata": {},
     "output_type": "execute_result"
    }
   ],
   "source": [
    "pred4 = regr.predict(x_test)\n",
    "print(pred4)\n",
    "np.sqrt(np.mean((pred4 - y_test)**2))\n",
    "#print(accuracy_score( y_test, pred4))"
   ]
  },
  {
   "cell_type": "code",
   "execution_count": null,
   "metadata": {},
   "outputs": [],
   "source": []
  }
 ],
 "metadata": {
  "kernelspec": {
   "display_name": "Python 3",
   "language": "python",
   "name": "python3"
  },
  "language_info": {
   "codemirror_mode": {
    "name": "ipython",
    "version": 3
   },
   "file_extension": ".py",
   "mimetype": "text/x-python",
   "name": "python",
   "nbconvert_exporter": "python",
   "pygments_lexer": "ipython3",
   "version": "3.7.9"
  }
 },
 "nbformat": 4,
 "nbformat_minor": 4
}
